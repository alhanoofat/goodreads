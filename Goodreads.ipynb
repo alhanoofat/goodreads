{
 "cells": [
  {
   "cell_type": "markdown",
   "metadata": {},
   "source": [
    "### Problem statement:\n",
    "The link of the dataset on Kaggle:\n",
    "https://www.kaggle.com/alhanoofat/goodreadsbest1500books <br>\n",
    "Goodreads is the world’s largest site for readers and book recommendations. Using it, you can track the books you are reading, have read, and want to read.<br>\n",
    "It also has a recommendation system that analyzes 20 billion data points to give suggestions tailored to your literary tastes.<br>\n",
    "In this project, I performed web scraping to gather data about the best books of the 21st century, which are the best books published from January 1st, 2001 until today, rated by Goodreads users. The scraping process was handled usig BeautifulSoup<br>\n",
    "The dataframe contains the following features about 1500 books:<br>\n",
    "\n",
    "|Feature|Description|\n",
    "|---|---|\n",
    "|book_name|The title of the book| \n",
    "|author_name|The name of the author|\n",
    "|book_genre|The genre of the book. For example, Fiction or Fantacy| \n",
    "|year_published|The year on which the book was published|\n",
    "|edition_language|The language in which this edition of the book was written| \n",
    "|avg_rating|The average of all ratings provided by Goodreads users (from 1 to 5)|\n",
    "|no_of_raters|The number of people rated tis book| \n",
    "|score|The total score of the book as being in the best books of the 21st century|\n",
    "|no_of_ppl_voted|The number of people voted for tis book to be whithin the best books of the 21st century| \n",
    "|book_url|The URL of the book in Goodreads|\n"
   ]
  },
  {
   "cell_type": "markdown",
   "metadata": {},
   "source": [
    "#### What to do?\n",
    "We could apply data analysis and machine learning on the dataframe to understand the taste of the readers, how it changes over the years, and what could be the possible score of a book written by a specific author, published in a specific year, rated by a specific number of readers, and has a specific average of rating.  "
   ]
  },
  {
   "cell_type": "code",
   "execution_count": 1,
   "metadata": {},
   "outputs": [],
   "source": [
    "import requests\n",
    "import re\n",
    "import pandas as pd\n",
    "from bs4 import BeautifulSoup"
   ]
  },
  {
   "cell_type": "markdown",
   "metadata": {},
   "source": [
    "The URLs of the pages containing the top 1500 books"
   ]
  },
  {
   "cell_type": "code",
   "execution_count": 2,
   "metadata": {},
   "outputs": [],
   "source": [
    "urls=['https://www.goodreads.com/list/show/7'\n",
    "     ,'https://www.goodreads.com/list/show/7.Best_Books_of_the_21st_Century?page=2',\n",
    "     'https://www.goodreads.com/list/show/7.Best_Books_of_the_21st_Century?page=3',\n",
    "     'https://www.goodreads.com/list/show/7.Best_Books_of_the_21st_Century?page=4',\n",
    "     'https://www.goodreads.com/list/show/7.Best_Books_of_the_21st_Century?page=5',\n",
    "     'https://www.goodreads.com/list/show/7.Best_Books_of_the_21st_Century?page=6',\n",
    "     'https://www.goodreads.com/list/show/7.Best_Books_of_the_21st_Century?page=7',\n",
    "     'https://www.goodreads.com/list/show/7.Best_Books_of_the_21st_Century?page=8',\n",
    "     'https://www.goodreads.com/list/show/7.Best_Books_of_the_21st_Century?page=9',\n",
    "     'https://www.goodreads.com/list/show/7.Best_Books_of_the_21st_Century?page=10',\n",
    "     'https://www.goodreads.com/list/show/7.Best_Books_of_the_21st_Century?page=11',\n",
    "     'https://www.goodreads.com/list/show/7.Best_Books_of_the_21st_Century?page=12',\n",
    "     'https://www.goodreads.com/list/show/7.Best_Books_of_the_21st_Century?page=13',\n",
    "     'https://www.goodreads.com/list/show/7.Best_Books_of_the_21st_Century?page=14',\n",
    "     'https://www.goodreads.com/list/show/7.Best_Books_of_the_21st_Century?page=15']"
   ]
  },
  {
   "cell_type": "markdown",
   "metadata": {},
   "source": [
    "Creating a soup for each page"
   ]
  },
  {
   "cell_type": "code",
   "execution_count": 3,
   "metadata": {},
   "outputs": [],
   "source": [
    "soups=[]\n",
    "for url in urls:\n",
    "    response = requests.get(url)\n",
    "    soup= BeautifulSoup(response.text, 'html.parser')\n",
    "    soups.append(soup)\n",
    "    "
   ]
  },
  {
   "cell_type": "code",
   "execution_count": 314,
   "metadata": {
    "scrolled": false
   },
   "outputs": [],
   "source": [
    "# soups[0]"
   ]
  },
  {
   "cell_type": "markdown",
   "metadata": {},
   "source": [
    "Acquiring data from the soups"
   ]
  },
  {
   "cell_type": "code",
   "execution_count": 23,
   "metadata": {},
   "outputs": [],
   "source": [
    "books=[]\n",
    "for soup in soups:\n",
    "    for n in range(len(soup.find_all('a',class_='bookTitle'))):\n",
    "        books.append(soup.find_all('a',class_='bookTitle')[n].text)"
   ]
  },
  {
   "cell_type": "code",
   "execution_count": 24,
   "metadata": {},
   "outputs": [],
   "source": [
    "authors=[]\n",
    "for soup in soups:\n",
    "    for n in range(len(soup.find_all('a',class_='authorName'))):\n",
    "        authors.append(soup.find_all('a',class_='authorName')[n].text)"
   ]
  },
  {
   "cell_type": "code",
   "execution_count": 27,
   "metadata": {},
   "outputs": [],
   "source": [
    "rating=[]\n",
    "for soup in soups:\n",
    "    for n in range(len(soup.find_all('span',class_='minirating'))):\n",
    "        rating.append(soup.find_all('span',class_='minirating')[n].text)"
   ]
  },
  {
   "cell_type": "code",
   "execution_count": 42,
   "metadata": {},
   "outputs": [],
   "source": [
    "score=[]\n",
    "for soup in soups:\n",
    "    for n in range(len(soup.find_all('span',class_='smallText uitext'))):\n",
    "        score.append(soup.find_all('span',class_='smallText uitext')[n].text)"
   ]
  },
  {
   "cell_type": "markdown",
   "metadata": {},
   "source": [
    "Acquiring the URLs for each book to get more data contained in each book page"
   ]
  },
  {
   "cell_type": "code",
   "execution_count": 55,
   "metadata": {},
   "outputs": [],
   "source": [
    "name_urls=[]\n",
    "for soup in soups:\n",
    "    for url in soup.find_all('a', attrs={'itemprop':'url','href': re.compile(\"^/book/show/\")}):\n",
    "        name_urls.append(url.get('href'))"
   ]
  },
  {
   "cell_type": "code",
   "execution_count": 67,
   "metadata": {},
   "outputs": [],
   "source": [
    "s= 'https://www.goodreads.com'\n",
    "nus=[]\n",
    "for nu in name_urls:\n",
    "    nus.append(s+nu)"
   ]
  },
  {
   "cell_type": "markdown",
   "metadata": {},
   "source": [
    "Creating a soup for each book. Thus, having 1500 soups"
   ]
  },
  {
   "cell_type": "code",
   "execution_count": 75,
   "metadata": {},
   "outputs": [],
   "source": [
    "soups3=[]\n",
    "for url in nus:\n",
    "    response = requests.get(url)\n",
    "    soup3= BeautifulSoup(response.text, 'html.parser')\n",
    "    soups3.append(soup3)"
   ]
  },
  {
   "cell_type": "code",
   "execution_count": 315,
   "metadata": {},
   "outputs": [],
   "source": [
    "# soups3[1499]"
   ]
  },
  {
   "cell_type": "markdown",
   "metadata": {},
   "source": [
    "Getting more data from each book's soup"
   ]
  },
  {
   "cell_type": "code",
   "execution_count": 102,
   "metadata": {},
   "outputs": [],
   "source": [
    "#get genres:\n",
    "genres=[]\n",
    "for soup3 in soups3:\n",
    "    if soup3.find('a',class_='actionLinkLite bookPageGenreLink'):\n",
    "        genres.append(soup3.find('a',class_='actionLinkLite bookPageGenreLink').text)\n",
    "    else:\n",
    "        genres.append('unknown')"
   ]
  },
  {
   "cell_type": "code",
   "execution_count": 185,
   "metadata": {},
   "outputs": [],
   "source": [
    "#get year published:\n",
    "years=[]\n",
    "for soup3 in soups3:\n",
    "\n",
    "    if len(soup3.find_all('div',class_='row'))>1:\n",
    "        years.append(soup3.find_all('div',class_='row')[1].text)\n",
    "    else:\n",
    "        years.append('unknown')"
   ]
  },
  {
   "cell_type": "code",
   "execution_count": 121,
   "metadata": {},
   "outputs": [],
   "source": [
    "lang=[]\n",
    "for soup3 in soups3:\n",
    "    if soup3.find('div',attrs={'class':'infoBoxRowItem','itemprop':'inLanguage'}):\n",
    "        lang.append(soup3.find('div',attrs={'class':'infoBoxRowItem','itemprop':'inLanguage'}).text)\n",
    "    else:\n",
    "        lang.append('unknown')"
   ]
  },
  {
   "cell_type": "markdown",
   "metadata": {},
   "source": [
    "Creating a dataframe"
   ]
  },
  {
   "cell_type": "code",
   "execution_count": 187,
   "metadata": {},
   "outputs": [],
   "source": [
    "gr_books=pd.DataFrame()\n",
    "gr_books['book_name']=books\n",
    "gr_books['author_name']=authors\n",
    "gr_books['avg_rating']=rating\n",
    "gr_books['score']=score\n",
    "gr_books['book_genre']=genres\n",
    "gr_books['year_published']=years\n",
    "gr_books['book_url']=nus\n",
    "gr_books['edition_language']=lang"
   ]
  },
  {
   "cell_type": "markdown",
   "metadata": {},
   "source": [
    "### Data cleaning"
   ]
  },
  {
   "cell_type": "markdown",
   "metadata": {},
   "source": [
    "splitting gr_books['avg_rating'] into two columns; one for the average rate and one for the number of raters"
   ]
  },
  {
   "cell_type": "code",
   "execution_count": 191,
   "metadata": {},
   "outputs": [],
   "source": [
    "gr_books['no_of_raters']=gr_books['avg_rating'].apply(lambda x: x.split()[4])"
   ]
  },
  {
   "cell_type": "code",
   "execution_count": 200,
   "metadata": {},
   "outputs": [],
   "source": [
    "gr_books['avg_rating']=gr_books['avg_rating'].apply(lambda x: x.split()[0])"
   ]
  },
  {
   "cell_type": "markdown",
   "metadata": {},
   "source": [
    "removing (\\n) from the book name"
   ]
  },
  {
   "cell_type": "code",
   "execution_count": 202,
   "metadata": {},
   "outputs": [],
   "source": [
    "gr_books['book_name']=gr_books['book_name'].apply(lambda x: x.strip('\\n'))"
   ]
  },
  {
   "cell_type": "markdown",
   "metadata": {},
   "source": [
    "splitting gr_books['score'] into two columns; one for the total score and one for the number of people voted"
   ]
  },
  {
   "cell_type": "code",
   "execution_count": 209,
   "metadata": {},
   "outputs": [],
   "source": [
    "gr_books['no_of_ppl_voted']=gr_books['score'].apply(lambda x: x.split('\\n')[3].split()[0])"
   ]
  },
  {
   "cell_type": "code",
   "execution_count": 216,
   "metadata": {},
   "outputs": [],
   "source": [
    "gr_books['score']=gr_books['score'].apply(lambda x: x.split()[1].split()[0].strip(','))"
   ]
  },
  {
   "cell_type": "markdown",
   "metadata": {},
   "source": [
    "Extracting the year in which the book was published, then converting it to integer."
   ]
  },
  {
   "cell_type": "code",
   "execution_count": 237,
   "metadata": {},
   "outputs": [],
   "source": [
    "pattern = '(\\d{4})'\n",
    "gr_books['year_published']=gr_books['year_published'].str.extract(pattern, expand=False)"
   ]
  },
  {
   "cell_type": "code",
   "execution_count": 308,
   "metadata": {},
   "outputs": [],
   "source": [
    "gr_books['year_published']=gr_books['year_published'].apply(lambda x: int(x))"
   ]
  },
  {
   "cell_type": "markdown",
   "metadata": {},
   "source": [
    "Manually imputing a missing data"
   ]
  },
  {
   "cell_type": "code",
   "execution_count": 287,
   "metadata": {},
   "outputs": [],
   "source": [
    "gr_books.iloc[1286].replace('unknown','Science Fiction',inplace=True)"
   ]
  },
  {
   "cell_type": "code",
   "execution_count": 288,
   "metadata": {},
   "outputs": [
    {
     "data": {
      "text/plain": [
       "book_name                                          Moore's Mythopoeia\n",
       "author_name                                     Christopher WunderLee\n",
       "avg_rating                                                       4.33\n",
       "score                                                             294\n",
       "book_genre                                            Science Fiction\n",
       "year_published                                                   2010\n",
       "book_url            https://www.goodreads.com/book/show/7307551-mo...\n",
       "edition_language                                              English\n",
       "no_of_raters                                                       18\n",
       "no_of_ppl_voted                                                     3\n",
       "Name: 1286, dtype: object"
      ]
     },
     "execution_count": 288,
     "metadata": {},
     "output_type": "execute_result"
    }
   ],
   "source": [
    "gr_books.iloc[1286]"
   ]
  },
  {
   "cell_type": "markdown",
   "metadata": {},
   "source": [
    "Rearranging the order of the columns"
   ]
  },
  {
   "cell_type": "code",
   "execution_count": 291,
   "metadata": {},
   "outputs": [],
   "source": [
    "gr_books=gr_books[['book_name', 'author_name', 'book_genre', 'year_published', 'edition_language', 'avg_rating', 'no_of_raters', \n",
    "                   'score', 'no_of_ppl_voted', 'book_url']]"
   ]
  },
  {
   "cell_type": "code",
   "execution_count": 296,
   "metadata": {},
   "outputs": [],
   "source": [
    "gr_books['year_published'].fillna('unknown', inplace=True)"
   ]
  },
  {
   "cell_type": "code",
   "execution_count": 304,
   "metadata": {},
   "outputs": [],
   "source": [
    "gr_books.iloc[1424].replace('unknown','2018',inplace=True)"
   ]
  },
  {
   "cell_type": "code",
   "execution_count": 305,
   "metadata": {},
   "outputs": [
    {
     "data": {
      "text/plain": [
       "book_name           The Errors of the National Academy of Sciences...\n",
       "author_name                                               Harun Yahya\n",
       "book_genre                                                 Nonfiction\n",
       "year_published                                                   2018\n",
       "edition_language                                              English\n",
       "avg_rating                                                      liked\n",
       "no_of_raters                                                   rating\n",
       "score                                                             255\n",
       "no_of_ppl_voted                                                     3\n",
       "book_url            https://www.goodreads.com/book/show/6362102-th...\n",
       "Name: 1424, dtype: object"
      ]
     },
     "execution_count": 305,
     "metadata": {},
     "output_type": "execute_result"
    }
   ],
   "source": [
    "gr_books.iloc[1424]"
   ]
  },
  {
   "cell_type": "code",
   "execution_count": 312,
   "metadata": {},
   "outputs": [
    {
     "data": {
      "text/html": [
       "<div>\n",
       "<style scoped>\n",
       "    .dataframe tbody tr th:only-of-type {\n",
       "        vertical-align: middle;\n",
       "    }\n",
       "\n",
       "    .dataframe tbody tr th {\n",
       "        vertical-align: top;\n",
       "    }\n",
       "\n",
       "    .dataframe thead th {\n",
       "        text-align: right;\n",
       "    }\n",
       "</style>\n",
       "<table border=\"1\" class=\"dataframe\">\n",
       "  <thead>\n",
       "    <tr style=\"text-align: right;\">\n",
       "      <th></th>\n",
       "      <th>book_name</th>\n",
       "      <th>author_name</th>\n",
       "      <th>book_genre</th>\n",
       "      <th>year_published</th>\n",
       "      <th>edition_language</th>\n",
       "      <th>avg_rating</th>\n",
       "      <th>no_of_raters</th>\n",
       "      <th>score</th>\n",
       "      <th>no_of_ppl_voted</th>\n",
       "      <th>book_url</th>\n",
       "    </tr>\n",
       "  </thead>\n",
       "  <tbody>\n",
       "    <tr>\n",
       "      <th>0</th>\n",
       "      <td>Harry Potter and the Deathly Hallows (Harry Po...</td>\n",
       "      <td>J.K. Rowling</td>\n",
       "      <td>Fantasy</td>\n",
       "      <td>2007</td>\n",
       "      <td>English</td>\n",
       "      <td>4.61</td>\n",
       "      <td>2,530,201</td>\n",
       "      <td>392,793</td>\n",
       "      <td>3,968</td>\n",
       "      <td>https://www.goodreads.com/book/show/136251.Har...</td>\n",
       "    </tr>\n",
       "    <tr>\n",
       "      <th>1</th>\n",
       "      <td>The Hunger Games (The Hunger Games, #1)</td>\n",
       "      <td>Suzanne Collins</td>\n",
       "      <td>Young Adult</td>\n",
       "      <td>2008</td>\n",
       "      <td>English</td>\n",
       "      <td>4.33</td>\n",
       "      <td>5,856,382</td>\n",
       "      <td>289,899</td>\n",
       "      <td>2,958</td>\n",
       "      <td>https://www.goodreads.com/book/show/2767052-th...</td>\n",
       "    </tr>\n",
       "    <tr>\n",
       "      <th>2</th>\n",
       "      <td>The Kite Runner</td>\n",
       "      <td>Khaled Hosseini</td>\n",
       "      <td>Fiction</td>\n",
       "      <td>2004</td>\n",
       "      <td>English</td>\n",
       "      <td>4.29</td>\n",
       "      <td>2,222,081</td>\n",
       "      <td>257,039</td>\n",
       "      <td>2,610</td>\n",
       "      <td>https://www.goodreads.com/book/show/77203.The_...</td>\n",
       "    </tr>\n",
       "    <tr>\n",
       "      <th>3</th>\n",
       "      <td>The Book Thief</td>\n",
       "      <td>Markus Zusak</td>\n",
       "      <td>Historical</td>\n",
       "      <td>2006</td>\n",
       "      <td>English</td>\n",
       "      <td>4.37</td>\n",
       "      <td>1,636,312</td>\n",
       "      <td>249,885</td>\n",
       "      <td>2,545</td>\n",
       "      <td>https://www.goodreads.com/book/show/19063.The_...</td>\n",
       "    </tr>\n",
       "    <tr>\n",
       "      <th>4</th>\n",
       "      <td>Harry Potter and the Half-Blood Prince (Harry ...</td>\n",
       "      <td>J.K. Rowling</td>\n",
       "      <td>Fantasy</td>\n",
       "      <td>2006</td>\n",
       "      <td>English</td>\n",
       "      <td>4.56</td>\n",
       "      <td>2,172,153</td>\n",
       "      <td>219,198</td>\n",
       "      <td>2,257</td>\n",
       "      <td>https://www.goodreads.com/book/show/1.Harry_Po...</td>\n",
       "    </tr>\n",
       "  </tbody>\n",
       "</table>\n",
       "</div>"
      ],
      "text/plain": [
       "                                           book_name      author_name  \\\n",
       "0  Harry Potter and the Deathly Hallows (Harry Po...     J.K. Rowling   \n",
       "1            The Hunger Games (The Hunger Games, #1)  Suzanne Collins   \n",
       "2                                    The Kite Runner  Khaled Hosseini   \n",
       "3                                     The Book Thief     Markus Zusak   \n",
       "4  Harry Potter and the Half-Blood Prince (Harry ...     J.K. Rowling   \n",
       "\n",
       "    book_genre  year_published edition_language avg_rating no_of_raters  \\\n",
       "0      Fantasy            2007          English       4.61    2,530,201   \n",
       "1  Young Adult            2008          English       4.33    5,856,382   \n",
       "2      Fiction            2004          English       4.29    2,222,081   \n",
       "3   Historical            2006          English       4.37    1,636,312   \n",
       "4      Fantasy            2006          English       4.56    2,172,153   \n",
       "\n",
       "     score no_of_ppl_voted                                           book_url  \n",
       "0  392,793           3,968  https://www.goodreads.com/book/show/136251.Har...  \n",
       "1  289,899           2,958  https://www.goodreads.com/book/show/2767052-th...  \n",
       "2  257,039           2,610  https://www.goodreads.com/book/show/77203.The_...  \n",
       "3  249,885           2,545  https://www.goodreads.com/book/show/19063.The_...  \n",
       "4  219,198           2,257  https://www.goodreads.com/book/show/1.Harry_Po...  "
      ]
     },
     "execution_count": 312,
     "metadata": {},
     "output_type": "execute_result"
    }
   ],
   "source": [
    "gr_books.head()"
   ]
  },
  {
   "cell_type": "code",
   "execution_count": 313,
   "metadata": {},
   "outputs": [],
   "source": [
    "gr_books.to_csv('Goodreads_best1500books.csv')"
   ]
  },
  {
   "cell_type": "code",
   "execution_count": null,
   "metadata": {},
   "outputs": [],
   "source": []
  }
 ],
 "metadata": {
  "kernelspec": {
   "display_name": "Python 3",
   "language": "python",
   "name": "python3"
  },
  "language_info": {
   "codemirror_mode": {
    "name": "ipython",
    "version": 3
   },
   "file_extension": ".py",
   "mimetype": "text/x-python",
   "name": "python",
   "nbconvert_exporter": "python",
   "pygments_lexer": "ipython3",
   "version": "3.7.3"
  }
 },
 "nbformat": 4,
 "nbformat_minor": 2
}
